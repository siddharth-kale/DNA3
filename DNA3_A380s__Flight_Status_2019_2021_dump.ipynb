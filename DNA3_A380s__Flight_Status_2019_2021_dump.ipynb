{
  "nbformat": 4,
  "nbformat_minor": 0,
  "metadata": {
    "colab": {
      "name": "DNA3_A380s _Flight_Status 2019_2021_dump.ipynb",
      "provenance": [],
      "collapsed_sections": [],
      "machine_shape": "hm",
      "include_colab_link": true
    },
    "kernelspec": {
      "display_name": "Python 3",
      "name": "python3"
    },
    "language_info": {
      "name": "python"
    }
  },
  "cells": [
    {
      "cell_type": "markdown",
      "metadata": {
        "id": "view-in-github",
        "colab_type": "text"
      },
      "source": [
        "<a href=\"https://colab.research.google.com/github/siddharth-kale/DNA3/blob/main/DNA3_A380s__Flight_Status_2019_2021_dump.ipynb\" target=\"_parent\"><img src=\"https://colab.research.google.com/assets/colab-badge.svg\" alt=\"Open In Colab\"/></a>"
      ]
    },
    {
      "cell_type": "code",
      "metadata": {
        "id": "ACyhpUZDxiPm"
      },
      "source": [
        "!pip install --upgrade numpy\n",
        "!pip install --upgrade traffic"
      ],
      "execution_count": null,
      "outputs": []
    },
    {
      "cell_type": "code",
      "metadata": {
        "id": "_8tVFOuHpEUd"
      },
      "source": [
        "import traffic\n",
        "from traffic.data import opensky\n",
        "from traffic.core import Traffic\n",
        "from datetime import timedelta,date,datetime\n",
        "import pandas as pd\n",
        "import random\n",
        "from google.colab import drive\n",
        "import os"
      ],
      "execution_count": null,
      "outputs": []
    },
    {
      "cell_type": "code",
      "metadata": {
        "id": "bDb_bLh5zBJM"
      },
      "source": [
        "opensky.username= ''\n",
        "opensky.password= ''"
      ],
      "execution_count": null,
      "outputs": []
    },
    {
      "cell_type": "code",
      "metadata": {
        "id": "6Gft6QUnCNDy"
      },
      "source": [
        "pd.options.display.max_rows=999"
      ],
      "execution_count": null,
      "outputs": []
    },
    {
      "cell_type": "code",
      "metadata": {
        "id": "KLzab1B72aqx"
      },
      "source": [
        "drive.mount('/content/gdrive')"
      ],
      "execution_count": null,
      "outputs": []
    },
    {
      "cell_type": "code",
      "metadata": {
        "id": "Sv7rzqlf46l8"
      },
      "source": [
        "raw_aircraft_df = pd.read_csv('/content/gdrive/MyDrive/Projects/DNA3/Data/aircraftDatabase-2021-09.csv')"
      ],
      "execution_count": null,
      "outputs": []
    },
    {
      "cell_type": "code",
      "metadata": {
        "id": "y7EJn9V95OB9"
      },
      "source": [
        "a380fleet=raw_aircraft_df[raw_aircraft_df['model'].str.contains('380',na=False) & raw_aircraft_df['manufacturername'].str.contains('irbus',na=False)]['icao24'].to_list()"
      ],
      "execution_count": null,
      "outputs": []
    },
    {
      "cell_type": "code",
      "metadata": {
        "id": "EK9C7PqUzIe2"
      },
      "source": [
        "start_date=\"2021-10-06\"\n",
        "end_date = \"2021-11-19\"\n",
        "\n",
        "sdate_dt = datetime.strptime(start_date,\"%Y-%m-%d\").date()\n",
        "edate_dt = datetime.strptime(end_date,\"%Y-%m-%d\").date()\n",
        "\n",
        "dateslist=[]\n",
        "\n",
        "path='/content/gdrive/MyDrive/Projects/DNA3/Data/'\n",
        "\n",
        "\n",
        "rand_end = sdate_dt \n",
        "\n",
        "while rand_end <= edate_dt:\n",
        "  temp_date = rand_end+timedelta(days=30)\n",
        "  rand_end = datetime(temp_date.year,temp_date.month,random.randint(3,5)).date()\n",
        "  rand_start = rand_end-timedelta(days=1)\n",
        "  print(datetime.strftime(rand_end,\"%Y-%m-%d\")+\",\"+datetime.strftime(rand_start,\"%Y-%m-%d\"))\n",
        "  if rand_end >edate_dt:\n",
        "    break\n",
        "  dateslist.append(datetime.strftime(rand_end,\"%Y-%m-%d\"))\n",
        "  dates_df = pd.DataFrame(dateslist,columns=['End Date'])\n",
        "  dates_df.to_csv(path+'/dates/a380flights.csv')\n",
        "  masterdf = pd.DataFrame(columns=['alert','altitude','callsign','geoaltitude','groundspeed','hour','icao24','last_position',\n",
        "                           'latitude','longitude','onground','spi','squawk','timestamp','track','vertical_rate'])\n",
        "  for k in range(0,len(a380fleet)):\n",
        "    icao_24 = a380fleet[k]\n",
        "    try:\n",
        "      flightdf = opensky.history(start=datetime.strftime(rand_start,\"%Y-%m-%d\"),stop=datetime.strftime(rand_end,\"%Y-%m-%d\"),icao24=icao_24,date_delta = timedelta(days=1),return_flight=True)\n",
        "      masterdf = masterdf.append(flightdf.data.copy(),ignore_index=True)\n",
        "    except (pd.errors.ParserError,AttributeError):\n",
        "      pass\n",
        "  masterdf.to_csv(path+'a380/'+datetime.strftime(rand_end,\"%Y-%m-%d\")+'.csv')\n",
        "\n",
        "\n"
      ],
      "execution_count": null,
      "outputs": []
    }
  ]
}