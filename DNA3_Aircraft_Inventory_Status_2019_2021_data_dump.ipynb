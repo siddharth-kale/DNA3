{
  "nbformat": 4,
  "nbformat_minor": 0,
  "metadata": {
    "colab": {
      "name": "DNA3_Aircraft_Inventory_Status_2019_2021_data_dump.ipynb",
      "provenance": [],
      "collapsed_sections": [],
      "machine_shape": "hm",
      "include_colab_link": true
    },
    "kernelspec": {
      "name": "python3",
      "display_name": "Python 3"
    },
    "language_info": {
      "name": "python"
    }
  },
  "cells": [
    {
      "cell_type": "markdown",
      "metadata": {
        "id": "view-in-github",
        "colab_type": "text"
      },
      "source": [
        "<a href=\"https://colab.research.google.com/github/siddharth-kale/DNA3/blob/main/DNA3_Aircraft_Inventory_Status_2019_2021_data_dump.ipynb\" target=\"_parent\"><img src=\"https://colab.research.google.com/assets/colab-badge.svg\" alt=\"Open In Colab\"/></a>"
      ]
    },
    {
      "cell_type": "code",
      "metadata": {
        "id": "ACyhpUZDxiPm",
        "colab": {
          "base_uri": "https://localhost:8080/",
          "height": 1000
        },
        "outputId": "3dcb6ce8-3a17-49c6-c6e3-3bec1ce935a3"
      },
      "source": [
        "!pip install --upgrade traffic\n",
        "!pip install --upgrade numpy"
      ],
      "execution_count": null,
      "outputs": [
        {
          "output_type": "stream",
          "name": "stdout",
          "text": [
            "Requirement already satisfied: traffic in /usr/local/lib/python3.7/dist-packages (2.6.6)\n",
            "Requirement already satisfied: typing-extensions<4.0.0,>=3.10.0 in /usr/local/lib/python3.7/dist-packages (from traffic) (3.10.0.2)\n",
            "Requirement already satisfied: lxml<5.0.0,>=4.6.3 in /usr/local/lib/python3.7/dist-packages (from traffic) (4.6.4)\n",
            "Requirement already satisfied: metar<2.0.0,>=1.8.0 in /usr/local/lib/python3.7/dist-packages (from traffic) (1.8.0)\n",
            "Requirement already satisfied: openap<2.0,>=1.1 in /usr/local/lib/python3.7/dist-packages (from traffic) (1.2)\n",
            "Requirement already satisfied: Shapely<2.0.0,>=1.7.1 in /usr/local/lib/python3.7/dist-packages (from traffic) (1.8.0)\n",
            "Requirement already satisfied: ipywidgets<8.0.0,>=7.6.3 in /usr/local/lib/python3.7/dist-packages (from traffic) (7.6.5)\n",
            "Requirement already satisfied: ipyleaflet<0.15.0,>=0.14.0 in /usr/local/lib/python3.7/dist-packages (from traffic) (0.14.0)\n",
            "Requirement already satisfied: appdirs<2.0.0,>=1.4.4 in /usr/local/lib/python3.7/dist-packages (from traffic) (1.4.4)\n",
            "Requirement already satisfied: beautifulsoup4<5.0.0,>=4.9.3 in /usr/local/lib/python3.7/dist-packages (from traffic) (4.10.0)\n",
            "Requirement already satisfied: cartes<1.0,>=0.5 in /usr/local/lib/python3.7/dist-packages (from traffic) (0.5)\n",
            "Requirement already satisfied: requests-pkcs12<2.0,>=1.10 in /usr/local/lib/python3.7/dist-packages (from traffic) (1.13)\n",
            "Requirement already satisfied: paramiko<3.0.0,>=2.7.2 in /usr/local/lib/python3.7/dist-packages (from traffic) (2.8.0)\n",
            "Requirement already satisfied: tqdm<5.0.0,>=4.61.1 in /usr/local/lib/python3.7/dist-packages (from traffic) (4.62.3)\n",
            "Requirement already satisfied: altair<5.0.0,>=4.1.0 in /usr/local/lib/python3.7/dist-packages (from traffic) (4.1.0)\n",
            "Requirement already satisfied: numpy<2.0,>=1.18 in /usr/local/lib/python3.7/dist-packages (from traffic) (1.19.5)\n",
            "Requirement already satisfied: pyproj<4.0.0,>=3.1.0 in /usr/local/lib/python3.7/dist-packages (from traffic) (3.2.1)\n",
            "Requirement already satisfied: Cartopy<0.20.0,>=0.19.0 in /usr/local/lib/python3.7/dist-packages (from traffic) (0.19.0.post1)\n",
            "Requirement already satisfied: pyModeS<3.0,>=2.9 in /usr/local/lib/python3.7/dist-packages (from traffic) (2.9)\n",
            "Requirement already satisfied: scipy<2.0.0,>=1.7.0 in /usr/local/lib/python3.7/dist-packages (from traffic) (1.7.2)\n",
            "Requirement already satisfied: requests<3.0.0,>=2.25.1 in /usr/local/lib/python3.7/dist-packages (from traffic) (2.26.0)\n",
            "Requirement already satisfied: matplotlib<4.0.0,>=3.4.2 in /usr/local/lib/python3.7/dist-packages (from traffic) (3.5.0)\n",
            "Requirement already satisfied: pyarrow<5.0,>=4.0 in /usr/local/lib/python3.7/dist-packages (from traffic) (4.0.1)\n",
            "Requirement already satisfied: pyOpenSSL<21.0,>=20.0 in /usr/local/lib/python3.7/dist-packages (from traffic) (20.0.1)\n",
            "Requirement already satisfied: pandas<2.0.0,>=1.2.4 in /usr/local/lib/python3.7/dist-packages (from traffic) (1.3.4)\n",
            "Requirement already satisfied: entrypoints in /usr/local/lib/python3.7/dist-packages (from altair<5.0.0,>=4.1.0->traffic) (0.3)\n",
            "Requirement already satisfied: jsonschema in /usr/local/lib/python3.7/dist-packages (from altair<5.0.0,>=4.1.0->traffic) (2.6.0)\n",
            "Requirement already satisfied: toolz in /usr/local/lib/python3.7/dist-packages (from altair<5.0.0,>=4.1.0->traffic) (0.11.2)\n",
            "Requirement already satisfied: jinja2 in /usr/local/lib/python3.7/dist-packages (from altair<5.0.0,>=4.1.0->traffic) (2.11.3)\n",
            "Requirement already satisfied: soupsieve>1.2 in /usr/local/lib/python3.7/dist-packages (from beautifulsoup4<5.0.0,>=4.9.3->traffic) (2.3.1)\n",
            "Requirement already satisfied: importlib-metadata in /usr/local/lib/python3.7/dist-packages (from cartes<1.0,>=0.5->traffic) (4.8.2)\n",
            "Requirement already satisfied: geopandas in /usr/local/lib/python3.7/dist-packages (from cartes<1.0,>=0.5->traffic) (0.10.2)\n",
            "Requirement already satisfied: pyshp>=2 in /usr/local/lib/python3.7/dist-packages (from Cartopy<0.20.0,>=0.19.0->traffic) (2.1.3)\n",
            "Requirement already satisfied: traittypes<3,>=0.2.1 in /usr/local/lib/python3.7/dist-packages (from ipyleaflet<0.15.0,>=0.14.0->traffic) (0.2.1)\n",
            "Requirement already satisfied: widgetsnbextension~=3.5.0 in /usr/local/lib/python3.7/dist-packages (from ipywidgets<8.0.0,>=7.6.3->traffic) (3.5.2)\n",
            "Requirement already satisfied: ipykernel>=4.5.1 in /usr/local/lib/python3.7/dist-packages (from ipywidgets<8.0.0,>=7.6.3->traffic) (4.10.1)\n",
            "Requirement already satisfied: ipython-genutils~=0.2.0 in /usr/local/lib/python3.7/dist-packages (from ipywidgets<8.0.0,>=7.6.3->traffic) (0.2.0)\n",
            "Requirement already satisfied: ipython>=4.0.0 in /usr/local/lib/python3.7/dist-packages (from ipywidgets<8.0.0,>=7.6.3->traffic) (5.5.0)\n",
            "Requirement already satisfied: jupyterlab-widgets>=1.0.0 in /usr/local/lib/python3.7/dist-packages (from ipywidgets<8.0.0,>=7.6.3->traffic) (1.0.2)\n",
            "Requirement already satisfied: nbformat>=4.2.0 in /usr/local/lib/python3.7/dist-packages (from ipywidgets<8.0.0,>=7.6.3->traffic) (5.1.3)\n",
            "Requirement already satisfied: traitlets>=4.3.1 in /usr/local/lib/python3.7/dist-packages (from ipywidgets<8.0.0,>=7.6.3->traffic) (5.1.1)\n",
            "Requirement already satisfied: tornado>=4.0 in /usr/local/lib/python3.7/dist-packages (from ipykernel>=4.5.1->ipywidgets<8.0.0,>=7.6.3->traffic) (5.1.1)\n",
            "Requirement already satisfied: jupyter-client in /usr/local/lib/python3.7/dist-packages (from ipykernel>=4.5.1->ipywidgets<8.0.0,>=7.6.3->traffic) (5.3.5)\n",
            "Requirement already satisfied: decorator in /usr/local/lib/python3.7/dist-packages (from ipython>=4.0.0->ipywidgets<8.0.0,>=7.6.3->traffic) (4.4.2)\n",
            "Requirement already satisfied: simplegeneric>0.8 in /usr/local/lib/python3.7/dist-packages (from ipython>=4.0.0->ipywidgets<8.0.0,>=7.6.3->traffic) (0.8.1)\n",
            "Requirement already satisfied: pygments in /usr/local/lib/python3.7/dist-packages (from ipython>=4.0.0->ipywidgets<8.0.0,>=7.6.3->traffic) (2.6.1)\n",
            "Requirement already satisfied: prompt-toolkit<2.0.0,>=1.0.4 in /usr/local/lib/python3.7/dist-packages (from ipython>=4.0.0->ipywidgets<8.0.0,>=7.6.3->traffic) (1.0.18)\n",
            "Requirement already satisfied: pexpect in /usr/local/lib/python3.7/dist-packages (from ipython>=4.0.0->ipywidgets<8.0.0,>=7.6.3->traffic) (4.8.0)\n",
            "Requirement already satisfied: pickleshare in /usr/local/lib/python3.7/dist-packages (from ipython>=4.0.0->ipywidgets<8.0.0,>=7.6.3->traffic) (0.7.5)\n",
            "Requirement already satisfied: setuptools>=18.5 in /usr/local/lib/python3.7/dist-packages (from ipython>=4.0.0->ipywidgets<8.0.0,>=7.6.3->traffic) (57.4.0)\n",
            "Requirement already satisfied: python-dateutil>=2.7 in /usr/local/lib/python3.7/dist-packages (from matplotlib<4.0.0,>=3.4.2->traffic) (2.8.2)\n",
            "Requirement already satisfied: cycler>=0.10 in /usr/local/lib/python3.7/dist-packages (from matplotlib<4.0.0,>=3.4.2->traffic) (0.11.0)\n",
            "Requirement already satisfied: fonttools>=4.22.0 in /usr/local/lib/python3.7/dist-packages (from matplotlib<4.0.0,>=3.4.2->traffic) (4.28.1)\n",
            "Requirement already satisfied: pillow>=6.2.0 in /usr/local/lib/python3.7/dist-packages (from matplotlib<4.0.0,>=3.4.2->traffic) (7.1.2)\n",
            "Requirement already satisfied: kiwisolver>=1.0.1 in /usr/local/lib/python3.7/dist-packages (from matplotlib<4.0.0,>=3.4.2->traffic) (1.3.2)\n",
            "Requirement already satisfied: pyparsing>=2.2.1 in /usr/local/lib/python3.7/dist-packages (from matplotlib<4.0.0,>=3.4.2->traffic) (3.0.6)\n",
            "Requirement already satisfied: setuptools-scm>=4 in /usr/local/lib/python3.7/dist-packages (from matplotlib<4.0.0,>=3.4.2->traffic) (6.3.2)\n",
            "Requirement already satisfied: packaging>=20.0 in /usr/local/lib/python3.7/dist-packages (from matplotlib<4.0.0,>=3.4.2->traffic) (21.3)\n",
            "Requirement already satisfied: jupyter-core in /usr/local/lib/python3.7/dist-packages (from nbformat>=4.2.0->ipywidgets<8.0.0,>=7.6.3->traffic) (4.9.1)\n",
            "Requirement already satisfied: scikit-fuzzy in /usr/local/lib/python3.7/dist-packages (from openap<2.0,>=1.1->traffic) (0.4.2)\n",
            "Requirement already satisfied: pyyaml in /usr/local/lib/python3.7/dist-packages (from openap<2.0,>=1.1->traffic) (3.13)\n",
            "Requirement already satisfied: pytz>=2017.3 in /usr/local/lib/python3.7/dist-packages (from pandas<2.0.0,>=1.2.4->traffic) (2018.9)\n",
            "Requirement already satisfied: pynacl>=1.0.1 in /usr/local/lib/python3.7/dist-packages (from paramiko<3.0.0,>=2.7.2->traffic) (1.4.0)\n",
            "Requirement already satisfied: cryptography>=2.5 in /usr/local/lib/python3.7/dist-packages (from paramiko<3.0.0,>=2.7.2->traffic) (35.0.0)\n",
            "Requirement already satisfied: bcrypt>=3.1.3 in /usr/local/lib/python3.7/dist-packages (from paramiko<3.0.0,>=2.7.2->traffic) (3.2.0)\n",
            "Requirement already satisfied: cffi>=1.1 in /usr/local/lib/python3.7/dist-packages (from bcrypt>=3.1.3->paramiko<3.0.0,>=2.7.2->traffic) (1.15.0)\n",
            "Requirement already satisfied: six>=1.4.1 in /usr/local/lib/python3.7/dist-packages (from bcrypt>=3.1.3->paramiko<3.0.0,>=2.7.2->traffic) (1.15.0)\n",
            "Requirement already satisfied: pycparser in /usr/local/lib/python3.7/dist-packages (from cffi>=1.1->bcrypt>=3.1.3->paramiko<3.0.0,>=2.7.2->traffic) (2.21)\n",
            "Requirement already satisfied: wcwidth in /usr/local/lib/python3.7/dist-packages (from prompt-toolkit<2.0.0,>=1.0.4->ipython>=4.0.0->ipywidgets<8.0.0,>=7.6.3->traffic) (0.2.5)\n",
            "Requirement already satisfied: pyzmq in /usr/local/lib/python3.7/dist-packages (from pyModeS<3.0,>=2.9->traffic) (22.3.0)\n",
            "Requirement already satisfied: certifi in /usr/local/lib/python3.7/dist-packages (from pyproj<4.0.0,>=3.1.0->traffic) (2021.10.8)\n",
            "Requirement already satisfied: charset-normalizer~=2.0.0 in /usr/local/lib/python3.7/dist-packages (from requests<3.0.0,>=2.25.1->traffic) (2.0.7)\n",
            "Requirement already satisfied: urllib3<1.27,>=1.21.1 in /usr/local/lib/python3.7/dist-packages (from requests<3.0.0,>=2.25.1->traffic) (1.24.3)\n",
            "Requirement already satisfied: idna<4,>=2.5 in /usr/local/lib/python3.7/dist-packages (from requests<3.0.0,>=2.25.1->traffic) (2.10)\n",
            "Requirement already satisfied: tomli>=1.0.0 in /usr/local/lib/python3.7/dist-packages (from setuptools-scm>=4->matplotlib<4.0.0,>=3.4.2->traffic) (1.2.2)\n",
            "Requirement already satisfied: notebook>=4.4.1 in /usr/local/lib/python3.7/dist-packages (from widgetsnbextension~=3.5.0->ipywidgets<8.0.0,>=7.6.3->traffic) (5.3.1)\n",
            "Requirement already satisfied: terminado>=0.8.1 in /usr/local/lib/python3.7/dist-packages (from notebook>=4.4.1->widgetsnbextension~=3.5.0->ipywidgets<8.0.0,>=7.6.3->traffic) (0.12.1)\n",
            "Requirement already satisfied: Send2Trash in /usr/local/lib/python3.7/dist-packages (from notebook>=4.4.1->widgetsnbextension~=3.5.0->ipywidgets<8.0.0,>=7.6.3->traffic) (1.8.0)\n",
            "Requirement already satisfied: nbconvert in /usr/local/lib/python3.7/dist-packages (from notebook>=4.4.1->widgetsnbextension~=3.5.0->ipywidgets<8.0.0,>=7.6.3->traffic) (5.6.1)\n",
            "Requirement already satisfied: ptyprocess in /usr/local/lib/python3.7/dist-packages (from terminado>=0.8.1->notebook>=4.4.1->widgetsnbextension~=3.5.0->ipywidgets<8.0.0,>=7.6.3->traffic) (0.7.0)\n",
            "Requirement already satisfied: fiona>=1.8 in /usr/local/lib/python3.7/dist-packages (from geopandas->cartes<1.0,>=0.5->traffic) (1.8.20)\n",
            "Requirement already satisfied: munch in /usr/local/lib/python3.7/dist-packages (from fiona>=1.8->geopandas->cartes<1.0,>=0.5->traffic) (2.5.0)\n",
            "Requirement already satisfied: attrs>=17 in /usr/local/lib/python3.7/dist-packages (from fiona>=1.8->geopandas->cartes<1.0,>=0.5->traffic) (21.2.0)\n",
            "Requirement already satisfied: click-plugins>=1.0 in /usr/local/lib/python3.7/dist-packages (from fiona>=1.8->geopandas->cartes<1.0,>=0.5->traffic) (1.1.1)\n",
            "Requirement already satisfied: cligj>=0.5 in /usr/local/lib/python3.7/dist-packages (from fiona>=1.8->geopandas->cartes<1.0,>=0.5->traffic) (0.7.2)\n",
            "Requirement already satisfied: click>=4.0 in /usr/local/lib/python3.7/dist-packages (from fiona>=1.8->geopandas->cartes<1.0,>=0.5->traffic) (7.1.2)\n",
            "Requirement already satisfied: zipp>=0.5 in /usr/local/lib/python3.7/dist-packages (from importlib-metadata->cartes<1.0,>=0.5->traffic) (3.6.0)\n",
            "Requirement already satisfied: MarkupSafe>=0.23 in /usr/local/lib/python3.7/dist-packages (from jinja2->altair<5.0.0,>=4.1.0->traffic) (2.0.1)\n",
            "Requirement already satisfied: bleach in /usr/local/lib/python3.7/dist-packages (from nbconvert->notebook>=4.4.1->widgetsnbextension~=3.5.0->ipywidgets<8.0.0,>=7.6.3->traffic) (4.1.0)\n",
            "Requirement already satisfied: mistune<2,>=0.8.1 in /usr/local/lib/python3.7/dist-packages (from nbconvert->notebook>=4.4.1->widgetsnbextension~=3.5.0->ipywidgets<8.0.0,>=7.6.3->traffic) (0.8.4)\n",
            "Requirement already satisfied: defusedxml in /usr/local/lib/python3.7/dist-packages (from nbconvert->notebook>=4.4.1->widgetsnbextension~=3.5.0->ipywidgets<8.0.0,>=7.6.3->traffic) (0.7.1)\n",
            "Requirement already satisfied: testpath in /usr/local/lib/python3.7/dist-packages (from nbconvert->notebook>=4.4.1->widgetsnbextension~=3.5.0->ipywidgets<8.0.0,>=7.6.3->traffic) (0.5.0)\n",
            "Requirement already satisfied: pandocfilters>=1.4.1 in /usr/local/lib/python3.7/dist-packages (from nbconvert->notebook>=4.4.1->widgetsnbextension~=3.5.0->ipywidgets<8.0.0,>=7.6.3->traffic) (1.5.0)\n",
            "Requirement already satisfied: webencodings in /usr/local/lib/python3.7/dist-packages (from bleach->nbconvert->notebook>=4.4.1->widgetsnbextension~=3.5.0->ipywidgets<8.0.0,>=7.6.3->traffic) (0.5.1)\n",
            "Requirement already satisfied: networkx>=1.9.0 in /usr/local/lib/python3.7/dist-packages (from scikit-fuzzy->openap<2.0,>=1.1->traffic) (2.6.3)\n",
            "Requirement already satisfied: numpy in /usr/local/lib/python3.7/dist-packages (1.19.5)\n",
            "Collecting numpy\n",
            "  Downloading numpy-1.21.4-cp37-cp37m-manylinux_2_12_x86_64.manylinux2010_x86_64.whl (15.7 MB)\n",
            "\u001b[K     |████████████████████████████████| 15.7 MB 97 kB/s \n",
            "\u001b[?25hInstalling collected packages: numpy\n",
            "  Attempting uninstall: numpy\n",
            "    Found existing installation: numpy 1.19.5\n",
            "    Uninstalling numpy-1.19.5:\n",
            "      Successfully uninstalled numpy-1.19.5\n",
            "\u001b[31mERROR: pip's dependency resolver does not currently take into account all the packages that are installed. This behaviour is the source of the following dependency conflicts.\n",
            "yellowbrick 1.3.post1 requires numpy<1.20,>=1.16.0, but you have numpy 1.21.4 which is incompatible.\n",
            "google-colab 1.0.0 requires pandas~=1.1.0; python_version >= \"3.0\", but you have pandas 1.3.4 which is incompatible.\n",
            "google-colab 1.0.0 requires requests~=2.23.0, but you have requests 2.26.0 which is incompatible.\n",
            "datascience 0.10.6 requires folium==0.2.1, but you have folium 0.8.3 which is incompatible.\n",
            "albumentations 0.1.12 requires imgaug<0.2.7,>=0.2.5, but you have imgaug 0.2.9 which is incompatible.\u001b[0m\n",
            "Successfully installed numpy-1.21.4\n"
          ]
        },
        {
          "output_type": "display_data",
          "data": {
            "application/vnd.colab-display-data+json": {
              "pip_warning": {
                "packages": [
                  "numpy"
                ]
              }
            }
          },
          "metadata": {}
        }
      ]
    },
    {
      "cell_type": "code",
      "metadata": {
        "id": "_8tVFOuHpEUd"
      },
      "source": [
        "import traffic\n",
        "from traffic.data import opensky\n",
        "from traffic.core import Traffic\n",
        "from traffic.data.samples import quickstart\n",
        "from datetime import timedelta,date,datetime\n",
        "import pandas as pd\n",
        "from google.colab import drive\n",
        "import os"
      ],
      "execution_count": null,
      "outputs": []
    },
    {
      "cell_type": "code",
      "metadata": {
        "id": "bDb_bLh5zBJM"
      },
      "source": [
        "opensky.username= ''\n",
        "opensky.password= ''"
      ],
      "execution_count": null,
      "outputs": []
    },
    {
      "cell_type": "code",
      "metadata": {
        "id": "6Gft6QUnCNDy"
      },
      "source": [
        "pd.options.display.max_rows=999"
      ],
      "execution_count": null,
      "outputs": []
    },
    {
      "cell_type": "code",
      "metadata": {
        "colab": {
          "base_uri": "https://localhost:8080/"
        },
        "id": "KLzab1B72aqx",
        "outputId": "e7e8dd3b-1262-4963-b422-39d059908675"
      },
      "source": [
        "drive.mount('/content/gdrive')"
      ],
      "execution_count": null,
      "outputs": [
        {
          "output_type": "stream",
          "name": "stdout",
          "text": [
            "Mounted at /content/gdrive\n"
          ]
        }
      ]
    },
    {
      "cell_type": "code",
      "metadata": {
        "id": "EK9C7PqUzIe2"
      },
      "source": [
        "start_date=\"2021-10-02\"\n",
        "sdate =datetime.strptime(start_date,\"%Y-%m-%d\").date()\n",
        "increments=int((((date.today()-sdate).days)/7))\n",
        "\n",
        "dna3_aircraft = ['89618a','89618e','89618b','89618c']\n",
        "\n",
        "masterdf = pd.DataFrame(columns=['alert','altitude','callsign','geoaltitude','groundspeed','hour','icao24','last_position',\n",
        "                           'latitude','longitude','onground','spi','squawk','timestamp','track','vertical_rate'])\n",
        "\n",
        "path='/content/gdrive/MyDrive/Projects/DNA3/Data/dna3inventory'\n",
        "#os.mkdir(path)\n",
        "\n",
        "for i in range(0,len(dna3_aircraft)):\n",
        "  icao_24 = dna3_aircraft[i]\n",
        "  for i in range(0,increments):\n",
        "    end=sdate+timedelta(weeks=i)\n",
        "    strstart = datetime.strftime(end-timedelta(days=1),format=\"%Y-%m-%d\")\n",
        "    strend = datetime.strftime(end,format=\"%Y-%m-%d\")\n",
        "    try:\n",
        "      flightdf = opensky.history(start=strstart,stop=strend,icao24=icao_24,date_delta = timedelta(days=1),return_flight=True)\n",
        "      masterdf=masterdf.append(flightdf.data)\n",
        "    except (pd.errors.ParserError,AttributeError):\n",
        "      pass\n",
        "  masterdf.to_csv('{path}/dna3-{s}-{e}.csv'.format(path=path,s=start_date,e=strend)) \n",
        " \n",
        " \n",
        "\n"
      ],
      "execution_count": null,
      "outputs": []
    }
  ]
}